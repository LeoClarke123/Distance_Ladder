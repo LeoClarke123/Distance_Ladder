{
 "cells": [
  {
   "cell_type": "code",
   "execution_count": 99,
   "id": "65ec6ab4-b7bf-4e31-90a5-8ba42cba9fca",
   "metadata": {},
   "outputs": [],
   "source": [
    "\"\"\"\n",
    "Created on Fri Mar 11 10:45:01 2022\n",
    "\n",
    "@author: leotc\n",
    "\"\"\"\n",
    "\n",
    "from numpy import *\n",
    "from math import isclose\n",
    "import os \n",
    "import statistics\n",
    "import matplotlib as mpl\n",
    "import matplotlib.pyplot as plt\n",
    "import numpy as np\n",
    "import emcee"
   ]
  },
  {
   "cell_type": "code",
   "execution_count": 100,
   "id": "d663b19d-5822-43cc-94da-031a22f81a53",
   "metadata": {},
   "outputs": [],
   "source": [
    "# sorry, was lazy with directory\n",
    "totalpoints = open(\"C:/Users/leotc/Documents/Uni/PHYS3080/Distance_Ladder/Data/Camera Images/calibrated star data.txt\", \"r\")      \n",
    "pointdata = totalpoints.readlines()[1:]"
   ]
  },
  {
   "cell_type": "code",
   "execution_count": 101,
   "id": "6fe5b456-effb-414e-b01a-b10c0fb653fb",
   "metadata": {},
   "outputs": [],
   "source": [
    "distance = []\n",
    "periods = []\n",
    "luminosity = []\n",
    "\n",
    "for i in pointdata:\n",
    "    \n",
    "    i = i.split()\n",
    "    period = i[-3]\n",
    "    green_flux = i[4]\n",
    "    dist = i[-4]\n",
    "    \n",
    "    if float(period) != 0: \n",
    "        periods.append(float(period))\n",
    "        abs_mag = np.log10(float(green_flux)) + 2*np.log10(float(dist))\n",
    "        luminosity.append(abs_mag)"
   ]
  },
  {
   "cell_type": "code",
   "execution_count": 130,
   "id": "07786f35-13cd-47ed-bec2-f4baceaa2958",
   "metadata": {},
   "outputs": [
    {
     "data": {
      "image/png": "[encoded data removed]",
      "text/plain": [
       "<Figure size 864x576 with 1 Axes>"
      ]
     },
     "metadata": {
      "needs_background": "light"
     },
     "output_type": "display_data"
    }
   ],
   "source": [
    "plt.scatter(periods, luminosity, marker='.', c='k')\n",
    "plt.xlabel('Period P (h)')\n",
    "plt.ylabel('Absolute Magnitude M (mags)')\n",
    "plt.grid()"
   ]
  },
  {
   "cell_type": "markdown",
   "id": "c551b687-15fc-43e8-91c9-12db7a532136",
   "metadata": {},
   "source": [
    "- Distance uncertainty: <br />\n",
    "# $ \\Delta D = D^{2}*\\Delta\\theta $ <br />\n",
    "- Absolute Magnitude uncertainty:\n",
    "# $ \\Delta Abs Mag = \\sqrt{(\\frac{\\Delta F_{green}}{2.3})^{2}+(\\frac{2D\\Delta\\theta}{2.3})^{2}} $ <br />\n",
    "- Note: <br />\n",
    "# $ \\Delta\\theta = 0.001 arcsec $ \n",
    "# $ \\Delta F_{green} = 0.015 W/m^{2}/nm $ \n",
    "\n",
    "\n",
    "\n"
   ]
  },
  {
   "cell_type": "code",
   "execution_count": 1,
   "id": "db5f7bd1-bad9-4ec6-bcf3-997ce2f773a0",
   "metadata": {
    "jupyter": {
     "source_hidden": true
    },
    "tags": []
   },
   "outputs": [],
   "source": [
    "def period_lum_uncert(star_periods, star_mag, xerr, yerr, runs = 1000):\n",
    "    \"\"\"\n",
    "    Function for calcuationg the uncertianty in period luminosity relation for stars using monte carlo method\n",
    "    \n",
    "    Inputs: star_periods <list>: list of star periods\n",
    "            star_mag <list>: list of absolute star magnitudes\n",
    "            xerr <list>: list of uncertainties in period values\n",
    "            yerr <list>: list of uncertainties in abs magnitude values    \n",
    "            runs <int>: number of monte carlo iterations to perform, default = 1000\n",
    "    \n",
    "    Returns: <tuple>: uncertainty in relation gradient and y-intercept (standard deviation of both)\n",
    "    \"\"\"\n",
    "    np.random.seed(1001)\n",
    "    \n",
    "    i=0\n",
    "    var_m = []\n",
    "    var_c = []\n",
    "    \n",
    "    while i<runs:\n",
    "        \n",
    "        # add random error to each flux term based on uniform distribution of uncertainties\n",
    "        star_mag_jitter = star_mag + ([a*b for a,b in zip(star_mag, yerr*np.random.uniform(low=-1, high=1, size=len(yerr)))])\n",
    "        star_periods_jitter = star_periods + ([a*b for a,b in zip(star_periods, xerr*np.random.uniform(low=-1, high=1, size=len(xerr)))])\n",
    "\n",
    "        poly_fit = np.polyfit(star_periods_jitter, star_mag_jitter, 1)\n",
    "        var_m.append(poly_fit[0])\n",
    "        var_c.append(poly_fit[1])\n",
    "        i+=1\n",
    "    \n",
    "    # return standard deviation of simulation as uncertianty\n",
    "    return (np.std(var_m), np.std(var_c)) "
   ]
  },
  {
   "cell_type": "markdown",
   "id": "71b28e9c-4bd3-4097-9e36-e22a4196ad43",
   "metadata": {},
   "source": [
    "# Long Periods"
   ]
  },
  {
   "cell_type": "code",
   "execution_count": 85,
   "id": "50a38921-1637-482c-abbf-adbe0fcc5b86",
   "metadata": {},
   "outputs": [],
   "source": [
    "distance = []\n",
    "long_periods = []\n",
    "long_luminosity = []\n",
    "long_yerr = []\n",
    "long_xerr = []\n",
    "\n",
    "for i in pointdata:\n",
    "    \n",
    "    i = i.split()\n",
    "    period = float(i[-3])\n",
    "    green_flux = float(i[4])\n",
    "    dist = float(i[-4])\n",
    "    x_uncert = float(i[-2])\n",
    "    \n",
    "    if float(period) > 35:\n",
    "        long_xerr.append(x_uncert)\n",
    "        long_periods.append(period)\n",
    "        abs_mag = np.log10(green_flux) + 2*np.log10(dist)\n",
    "        long_yerr.append(((0.015/2.3)**2+((2*dist*0.001)**2))**(1/2)) \n",
    "        long_luminosity.append(abs_mag)"
   ]
  },
  {
   "cell_type": "code",
   "execution_count": 141,
   "id": "66d04bfa-d985-4d6a-9fa8-a0e981a833bd",
   "metadata": {},
   "outputs": [
    {
     "data": {
      "text/plain": [
       "Text(50.2, -11.3, 'M = 0.148±0.004*P - 17.9±0.2')"
      ]
     },
     "execution_count": 141,
     "metadata": {},
     "output_type": "execute_result"
    },
    {
     "data": {
      "image/png": "[encoded data removed]",
      "text/plain": [
       "<Figure size 864x576 with 1 Axes>"
      ]
     },
     "metadata": {
      "needs_background": "light"
     },
     "output_type": "display_data"
    }
   ],
   "source": [
    "fig = plt.figure()\n",
    "ax1 = fig.add_subplot(111)\n",
    "\n",
    "ax1.errorbar(long_periods, long_luminosity, yerr=long_yerr, xerr=long_xerr, fmt='.k', markersize='7', elinewidth=0.6)\n",
    "ax1.plot(long_periods,long_poly(long_periods),\"k\",  linewidth=0.3)\n",
    "ax1.grid()\n",
    "plt.rcParams[\"figure.figsize\"] = (12, 8)\n",
    "plt.xlabel('Period P (h)')\n",
    "plt.ylabel('Absolute Magnitude M (mags)')\n",
    "plt.text(50.2,-11.3,\"M = 0.148\\u00B10.004*P - 17.9\\u00B10.2\", fontsize='x-large')"
   ]
  },
  {
   "cell_type": "code",
   "execution_count": 87,
   "id": "9c712bae-4e75-4f1d-b7fe-cccfa905eafe",
   "metadata": {},
   "outputs": [
    {
     "data": {
      "text/plain": [
       "(0.004337989465431641, 0.21555434533072085)"
      ]
     },
     "execution_count": 87,
     "metadata": {},
     "output_type": "execute_result"
    }
   ],
   "source": [
    "period_lum_uncert(long_periods, long_luminosity, long_xerr, long_yerr)"
   ]
  },
  {
   "cell_type": "code",
   "execution_count": 88,
   "id": "96fa4f72-2a0f-4dec-8882-07ea938655ad",
   "metadata": {},
   "outputs": [],
   "source": [
    "long_fit = np.polyfit(long_periods, long_luminosity, 1)\n",
    "long_poly = np.poly1d(long_fit)"
   ]
  },
  {
   "cell_type": "code",
   "execution_count": 89,
   "id": "9e23903c-8fd9-4231-9201-61ed8c1d1b33",
   "metadata": {},
   "outputs": [
    {
     "data": {
      "text/plain": [
       "poly1d([  0.14836345, -17.94644976])"
      ]
     },
     "execution_count": 89,
     "metadata": {},
     "output_type": "execute_result"
    }
   ],
   "source": [
    "long_poly"
   ]
  },
  {
   "cell_type": "markdown",
   "id": "21ac6b78-b7a8-4686-b957-953b93c34fa3",
   "metadata": {},
   "source": [
    "- For stars with long periods (~50hrs), the relation is given as: <br />\n",
    "## $ Abs Mag = 0.148\\pm0.004*P - 17.9\\pm0.2 $ <br />\n",
    "- explicitly:\n",
    "## $ distance_{long}(pc) = \\sqrt{\\frac{10^{0.148\\pm0.004*P (hours) - 17.9\\pm0.2}}{green flux (W/m^{2}/nm)}} $"
   ]
  },
  {
   "cell_type": "markdown",
   "id": "8323aa99-8ffa-4020-95cf-a93d530febf2",
   "metadata": {},
   "source": [
    "# Short Periods"
   ]
  },
  {
   "cell_type": "code",
   "execution_count": 90,
   "id": "f4c8c84d-e25f-4f4f-af6b-f3cbc83ca201",
   "metadata": {},
   "outputs": [],
   "source": [
    "distance = []\n",
    "short_periods = []\n",
    "short_luminosity = []\n",
    "short_yerr = []\n",
    "short_xerr = []\n",
    "\n",
    "for i in pointdata:\n",
    "    \n",
    "    i = i.split()\n",
    "    period = float(i[-3])\n",
    "    green_flux = float(i[4])\n",
    "    dist = float(i[-4])\n",
    "    x_uncert = float(i[-2])\n",
    "    star_name = str(i[0])\n",
    "    \n",
    "    if star_name == 'P00789': # NOTE, this star had no clear period in it's data, was thus excluded \n",
    "        continue        \n",
    "        \n",
    "    if period < 35 and period != 0:\n",
    "        short_xerr.append(x_uncert)\n",
    "        short_periods.append(period)\n",
    "        abs_mag = np.log10(green_flux) + 2*np.log10(dist)\n",
    "        short_yerr.append(((0.015/2.3)**2+((2*dist*0.001)**2))**(1/2)) \n",
    "        short_luminosity.append(abs_mag)"
   ]
  },
  {
   "cell_type": "code",
   "execution_count": 91,
   "id": "ef01086b-eef7-4d9c-a568-7dbacc2ce93d",
   "metadata": {},
   "outputs": [
    {
     "data": {
      "text/plain": [
       "(0.020336231063719516, 0.3881331177998594)"
      ]
     },
     "execution_count": 91,
     "metadata": {},
     "output_type": "execute_result"
    }
   ],
   "source": [
    "period_lum_uncert(short_periods, short_luminosity, short_xerr, short_yerr)"
   ]
  },
  {
   "cell_type": "code",
   "execution_count": 92,
   "id": "232a6498-a967-4661-9b66-6fb8a8e7bcde",
   "metadata": {},
   "outputs": [],
   "source": [
    "short_fit = np.polyfit(short_periods, short_luminosity, 1)\n",
    "short_poly = np.poly1d(short_fit)"
   ]
  },
  {
   "cell_type": "code",
   "execution_count": 93,
   "id": "e32aaeb1-e032-49c8-9dc3-a34d3d5e1060",
   "metadata": {},
   "outputs": [
    {
     "data": {
      "text/plain": [
       "poly1d([-0.27911615, -1.44986071])"
      ]
     },
     "execution_count": 93,
     "metadata": {},
     "output_type": "execute_result"
    }
   ],
   "source": [
    "short_poly"
   ]
  },
  {
   "cell_type": "markdown",
   "id": "203fe750-ae88-4cd9-bf4f-57d02a6a6bb2",
   "metadata": {},
   "source": [
    "- For stars with short periods (~50hrs), the relation is given as: <br />\n",
    "## $ Log(Flux) = -0.28\\pm0.02*P - 1.4\\pm0.4 $ <br />\n",
    "- explicitly:\n",
    "## $ distance_{short}(pc) = \\sqrt{\\frac{10^{-0.28\\pm0.02*P (hours) - 1.4\\pm0.4}}{green flux (W/m^{2}/nm)}} $"
   ]
  },
  {
   "cell_type": "code",
   "execution_count": 144,
   "id": "be0b1a3d-0d3d-47aa-b57f-2a86fd60f70a",
   "metadata": {},
   "outputs": [
    {
     "data": {
      "text/plain": [
       "Text(18.35, -7.3, 'M = -0.28±0.02*P - 1.4±0.4')"
      ]
     },
     "execution_count": 144,
     "metadata": {},
     "output_type": "execute_result"
    },
    {
     "data": {
      "image/png": "[encoded data removed]",
      "text/plain": [
       "<Figure size 864x576 with 1 Axes>"
      ]
     },
     "metadata": {
      "needs_background": "light"
     },
     "output_type": "display_data"
    }
   ],
   "source": [
    "fig = plt.figure()\n",
    "ax2 = fig.add_subplot(111)\n",
    "\n",
    "ax2.errorbar(short_periods, short_luminosity, yerr=short_yerr, xerr=short_xerr, fmt='.k', markersize='7', elinewidth=0.6)\n",
    "ax2.plot(short_periods,short_poly(short_periods),\"k\", linewidth=0.3)\n",
    "ax2.grid()\n",
    "plt.rcParams[\"figure.figsize\"] = (12, 8)\n",
    "plt.xlabel('Period P (h)')\n",
    "plt.ylabel('Absolute Magnitude M (mags)')\n",
    "plt.text(18.35,-7.3,\"M = -0.28\\u00B10.02*P - 1.4\\u00B10.4\", fontsize='x-large')"
   ]
  },
  {
   "cell_type": "code",
   "execution_count": null,
   "id": "4b0ce039-41f2-4713-a07f-811136025ebc",
   "metadata": {},
   "outputs": [],
   "source": []
  }
 ],
 "metadata": {
  "kernelspec": {
   "display_name": "Python 3 (ipykernel)",
   "language": "python",
   "name": "python3"
  },
  "language_info": {
   "codemirror_mode": {
    "name": "ipython",
    "version": 3
   },
   "file_extension": ".py",
   "mimetype": "text/x-python",
   "name": "python",
   "nbconvert_exporter": "python",
   "pygments_lexer": "ipython3",
   "version": "3.10.1"
  }
 },
 "nbformat": 4,
 "nbformat_minor": 5
}
