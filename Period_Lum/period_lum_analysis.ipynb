{
 "cells": [
  {
   "cell_type": "code",
   "execution_count": 1,
   "id": "65ec6ab4-b7bf-4e31-90a5-8ba42cba9fca",
   "metadata": {},
   "outputs": [],
   "source": [
    "\"\"\"\n",
    "Created on Fri Mar 11 10:45:01 2022\n",
    "\n",
    "@author: leotc\n",
    "\"\"\"\n",
    "\n",
    "from numpy import *\n",
    "from math import isclose\n",
    "import os \n",
    "import statistics\n",
    "import matplotlib as mpl\n",
    "import matplotlib.pyplot as plt\n",
    "import numpy as np\n",
    "import emcee"
   ]
  },
  {
   "cell_type": "code",
   "execution_count": 2,
   "id": "d663b19d-5822-43cc-94da-031a22f81a53",
   "metadata": {},
   "outputs": [],
   "source": [
    "# sorry, was lazy with directory\n",
    "totalpoints = open(\"C:/Users/leotc/Documents/Uni/PHYS3080/Distance_Ladder/Data/Camera Images/calibrated star data.txt\", \"r\")      \n",
    "pointdata = totalpoints.readlines()[1:]"
   ]
  },
  {
   "cell_type": "markdown",
   "id": "e732670c-88cc-402a-a737-9f345511cc17",
   "metadata": {},
   "source": [
    "## Note: Assumed 0.1% uncertainty in periods; not calcualted"
   ]
  },
  {
   "cell_type": "code",
   "execution_count": 3,
   "id": "6fe5b456-effb-414e-b01a-b10c0fb653fb",
   "metadata": {},
   "outputs": [],
   "source": [
    "distance = []\n",
    "periods = []\n",
    "luminosity = []\n",
    "\n",
    "for i in pointdata:\n",
    "    \n",
    "    i = i.split()\n",
    "    period = i[-2]\n",
    "    green_flux = i[4]\n",
    "    dist = i[-3]\n",
    "    \n",
    "    if float(period) != 0: \n",
    "        periods.append(float(period))\n",
    "        abs_mag = np.log10(float(green_flux)) + 2*np.log10(float(dist))\n",
    "        luminosity.append(abs_mag)"
   ]
  },
  {
   "cell_type": "code",
   "execution_count": 4,
   "id": "07786f35-13cd-47ed-bec2-f4baceaa2958",
   "metadata": {},
   "outputs": [
    {
     "data": {
      "text/plain": [
       "Text(0.5, 1.0, 'all period lum relations')"
      ]
     },
     "execution_count": 4,
     "metadata": {},
     "output_type": "execute_result"
    },
    {
     "data": {
      "image/png": "[encoded data removed]",
      "text/plain": [
       "<Figure size 432x288 with 1 Axes>"
      ]
     },
     "metadata": {
      "needs_background": "light"
     },
     "output_type": "display_data"
    }
   ],
   "source": [
    "plt.scatter(periods, luminosity, marker='.')\n",
    "plt.xlabel('Period (h)')\n",
    "plt.ylabel('Log Flux')\n",
    "plt.title('all period lum relations')"
   ]
  },
  {
   "cell_type": "code",
   "execution_count": 5,
   "id": "50a38921-1637-482c-abbf-adbe0fcc5b86",
   "metadata": {},
   "outputs": [],
   "source": [
    "distance = []\n",
    "long_periods = []\n",
    "long_luminosity = []\n",
    "yerr = []\n",
    "xerr = []\n",
    "\n",
    "for i in pointdata:\n",
    "    \n",
    "    i = i.split()\n",
    "    period = float(i[-2])\n",
    "    green_flux = float(i[4])\n",
    "    dist = float(i[-3])\n",
    "    \n",
    "    if float(period) > 35:\n",
    "        xerr.append(0.001*period) # assume 0.1% uncertainty in periods, TO BE REVIEWED\n",
    "        long_periods.append(period)\n",
    "        abs_mag = np.log10(green_flux) + 2*np.log10(dist)\n",
    "        yerr.append((1/2.3)*((0.015)**2+(0.01)**2)**(1/2)) # 1.5% uncertianty in flux\n",
    "        long_luminosity.append(abs_mag)"
   ]
  },
  {
   "cell_type": "code",
   "execution_count": 9,
   "id": "66d04bfa-d985-4d6a-9fa8-a0e981a833bd",
   "metadata": {},
   "outputs": [
    {
     "data": {
      "text/plain": [
       "Text(0.5, 1.0, 'long period lum relations')"
      ]
     },
     "execution_count": 9,
     "metadata": {},
     "output_type": "execute_result"
    },
    {
     "data": {
      "image/png": "[encoded data removed]",
      "text/plain": [
       "<Figure size 864x576 with 1 Axes>"
      ]
     },
     "metadata": {
      "needs_background": "light"
     },
     "output_type": "display_data"
    }
   ],
   "source": [
    "fig = plt.figure()\n",
    "ax1 = fig.add_subplot(111)\n",
    "\n",
    "ax1.errorbar(long_periods, long_luminosity, yerr=yerr, xerr=xerr, fmt='.k')\n",
    "ax1.plot(long_periods,long_poly(long_periods),\"k\",  linewidth=0.3)\n",
    "ax1.grid()\n",
    "plt.rcParams[\"figure.figsize\"] = (12, 8)\n",
    "plt.xlabel('Period (h)')\n",
    "plt.ylabel('Log Flux')\n",
    "plt.title('long period lum relations')"
   ]
  },
  {
   "cell_type": "code",
   "execution_count": 7,
   "id": "96fa4f72-2a0f-4dec-8882-07ea938655ad",
   "metadata": {},
   "outputs": [],
   "source": [
    "long_fit = np.polyfit(long_periods, long_luminosity, 1)\n",
    "long_poly = np.poly1d(long_fit)"
   ]
  },
  {
   "cell_type": "code",
   "execution_count": 15,
   "id": "d1f20a52-b7cc-46f0-9730-434d61d49d79",
   "metadata": {},
   "outputs": [
    {
     "data": {
      "text/plain": [
       "array([  0.14836345, -17.94644976])"
      ]
     },
     "execution_count": 15,
     "metadata": {},
     "output_type": "execute_result"
    }
   ],
   "source": [
    "long_fit"
   ]
  },
  {
   "cell_type": "markdown",
   "id": "21ac6b78-b7a8-4686-b957-953b93c34fa3",
   "metadata": {},
   "source": [
    "- For stars with long periods (~50hrs), the relation is given as: <br />\n",
    "## $ Log (Flux) = 0.14836345*P - 17.94644976 $ <br />\n",
    "- explicitly:\n",
    "## $ distance_{long}(pc) = \\sqrt{\\frac{10^{0.14836345*P (hours) - 17.94644976}}{green flux (W)}} $"
   ]
  },
  {
   "cell_type": "code",
   "execution_count": 82,
   "id": "e4c4cfe1-5736-4b1d-9332-1368c098538f",
   "metadata": {},
   "outputs": [
    {
     "name": "stderr",
     "output_type": "stream",
     "text": [
      "C:\\Users\\leotc\\AppData\\Local\\Temp\\ipykernel_3352\\4274280305.py:7: VisibleDeprecationWarning: Creating an ndarray from ragged nested sequences (which is a list-or-tuple of lists-or-tuples-or ndarrays with different lengths or shapes) is deprecated. If you meant to do this, you must specify 'dtype=object' when creating the ndarray.\n",
      "  w = np.linalg.solve(ATA, np.dot(A.T / ((xerr1 ** 2)[:, None], long_luminosity / yerr1 ** 2)))\n"
     ]
    },
    {
     "ename": "ValueError",
     "evalue": "could not broadcast input array from shape (71,1) into shape (71,)",
     "output_type": "error",
     "traceback": [
      "\u001b[1;31m---------------------------------------------------------------------------\u001b[0m",
      "\u001b[1;31mValueError\u001b[0m                                Traceback (most recent call last)",
      "Input \u001b[1;32mIn [82]\u001b[0m, in \u001b[0;36m<module>\u001b[1;34m\u001b[0m\n\u001b[0;32m      5\u001b[0m ATA \u001b[38;5;241m=\u001b[39m np\u001b[38;5;241m.\u001b[39mdot(A\u001b[38;5;241m.\u001b[39mT\u001b[38;5;241m/\u001b[39m((xerr1 \u001b[38;5;241m*\u001b[39m\u001b[38;5;241m*\u001b[39m \u001b[38;5;241m2\u001b[39m)[\u001b[38;5;28;01mNone\u001b[39;00m,:]), A \u001b[38;5;241m/\u001b[39m ((yerr1 \u001b[38;5;241m*\u001b[39m\u001b[38;5;241m*\u001b[39m \u001b[38;5;241m2\u001b[39m)[:, \u001b[38;5;28;01mNone\u001b[39;00m]))\n\u001b[0;32m      6\u001b[0m cov \u001b[38;5;241m=\u001b[39m np\u001b[38;5;241m.\u001b[39mlinalg\u001b[38;5;241m.\u001b[39minv(ATA)\n\u001b[1;32m----> 7\u001b[0m w \u001b[38;5;241m=\u001b[39m np\u001b[38;5;241m.\u001b[39mlinalg\u001b[38;5;241m.\u001b[39msolve(ATA, np\u001b[38;5;241m.\u001b[39mdot(\u001b[43mA\u001b[49m\u001b[38;5;241;43m.\u001b[39;49m\u001b[43mT\u001b[49m\u001b[43m \u001b[49m\u001b[38;5;241;43m/\u001b[39;49m\u001b[43m \u001b[49m\u001b[43m(\u001b[49m\u001b[43m(\u001b[49m\u001b[43mxerr1\u001b[49m\u001b[43m \u001b[49m\u001b[38;5;241;43m*\u001b[39;49m\u001b[38;5;241;43m*\u001b[39;49m\u001b[43m \u001b[49m\u001b[38;5;241;43m2\u001b[39;49m\u001b[43m)\u001b[49m\u001b[43m[\u001b[49m\u001b[43m:\u001b[49m\u001b[43m,\u001b[49m\u001b[43m \u001b[49m\u001b[38;5;28;43;01mNone\u001b[39;49;00m\u001b[43m]\u001b[49m\u001b[43m,\u001b[49m\u001b[43m \u001b[49m\u001b[43mlong_luminosity\u001b[49m\u001b[43m \u001b[49m\u001b[38;5;241;43m/\u001b[39;49m\u001b[43m \u001b[49m\u001b[43myerr1\u001b[49m\u001b[43m \u001b[49m\u001b[38;5;241;43m*\u001b[39;49m\u001b[38;5;241;43m*\u001b[39;49m\u001b[43m \u001b[49m\u001b[38;5;241;43m2\u001b[39;49m\u001b[43m)\u001b[49m))\n\u001b[0;32m      8\u001b[0m \u001b[38;5;28mprint\u001b[39m(\u001b[38;5;124m\"\u001b[39m\u001b[38;5;124mLeast-squares estimates:\u001b[39m\u001b[38;5;124m\"\u001b[39m)\n\u001b[0;32m      9\u001b[0m \u001b[38;5;28mprint\u001b[39m(\u001b[38;5;124m\"\u001b[39m\u001b[38;5;124mm = \u001b[39m\u001b[38;5;132;01m{0:.3f}\u001b[39;00m\u001b[38;5;124m ± \u001b[39m\u001b[38;5;132;01m{1:.3f}\u001b[39;00m\u001b[38;5;124m\"\u001b[39m\u001b[38;5;241m.\u001b[39mformat(w[\u001b[38;5;241m0\u001b[39m], np\u001b[38;5;241m.\u001b[39msqrt(cov[\u001b[38;5;241m0\u001b[39m, \u001b[38;5;241m0\u001b[39m])))\n",
      "\u001b[1;31mValueError\u001b[0m: could not broadcast input array from shape (71,1) into shape (71,)"
     ]
    }
   ],
   "source": [
    "yerr1 = np.array(yerr)\n",
    "xerr1 = np.array(xerr)\n",
    "\n",
    "A = np.vander(long_periods, 2)\n",
    "ATA = np.dot(A.T/((xerr1 ** 2)[None,:]), A / ((yerr1 ** 2)[:, None]))\n",
    "cov = np.linalg.inv(ATA)\n",
    "w = np.linalg.solve(ATA, np.dot(A.T / ((xerr1 ** 2)[:, None], long_luminosity / yerr1 ** 2)))\n",
    "print(\"Least-squares estimates:\")\n",
    "print(\"m = {0:.3f} ± {1:.3f}\".format(w[0], np.sqrt(cov[0, 0])))\n",
    "print(\"b = {0:.3f} ± {1:.3f}\".format(w[1], np.sqrt(cov[1, 1])))"
   ]
  },
  {
   "cell_type": "code",
   "execution_count": null,
   "id": "ae4e6ab4-b322-420a-b12d-e7e2db027800",
   "metadata": {},
   "outputs": [],
   "source": []
  },
  {
   "cell_type": "code",
   "execution_count": 32,
   "id": "f4c8c84d-e25f-4f4f-af6b-f3cbc83ca201",
   "metadata": {},
   "outputs": [],
   "source": [
    "distance = []\n",
    "short_periods = []\n",
    "short_luminosity = []\n",
    "\n",
    "for i in pointdata:\n",
    "    \n",
    "    i = i.split()\n",
    "    period = i[-2]\n",
    "    green_flux = i[4]\n",
    "    dist = i[-3]\n",
    "    \n",
    "    if float(period) < 35 and float(period) != 0: \n",
    "        short_periods.append(float(period))\n",
    "        abs_mag = np.log10(float(green_flux)) + 2*np.log10(float(dist))\n",
    "        short_luminosity.append(abs_mag)"
   ]
  },
  {
   "cell_type": "code",
   "execution_count": 9,
   "id": "232a6498-a967-4661-9b66-6fb8a8e7bcde",
   "metadata": {},
   "outputs": [],
   "source": [
    "short_fit = np.polyfit(short_periods, short_luminosity, 1)\n",
    "short_poly = np.poly1d(short_fit)"
   ]
  },
  {
   "cell_type": "markdown",
   "id": "203fe750-ae88-4cd9-bf4f-57d02a6a6bb2",
   "metadata": {},
   "source": [
    "- For stars with short periods (~50hrs), the relation is given as: <br />\n",
    "## $ Log(Flux) = -0.20472512*P - 2.856877 $ <br />\n",
    "- explicitly:\n",
    "## $ distance_{short}(pc) = \\sqrt{\\frac{10^{-0.20472512*P (hours) - 2.856877}}{green flux (W)}} $"
   ]
  },
  {
   "cell_type": "code",
   "execution_count": 10,
   "id": "be0b1a3d-0d3d-47aa-b57f-2a86fd60f70a",
   "metadata": {},
   "outputs": [
    {
     "data": {
      "text/plain": [
       "Text(0.5, 1.0, 'short period lum relations')"
      ]
     },
     "execution_count": 10,
     "metadata": {},
     "output_type": "execute_result"
    },
    {
     "data": {
      "image/png": "[encoded data removed]",
      "text/plain": [
       "<Figure size 432x288 with 1 Axes>"
      ]
     },
     "metadata": {
      "needs_background": "light"
     },
     "output_type": "display_data"
    }
   ],
   "source": [
    "fig = plt.figure()\n",
    "ax2 = fig.add_subplot(111)\n",
    "\n",
    "ax2.scatter(short_periods, short_luminosity, marker='.')\n",
    "ax2.plot(short_periods,short_poly(short_periods),\"k\", linewidth=0.3)\n",
    "ax2.grid()\n",
    "plt.xlabel('Period (h)')\n",
    "plt.ylabel('Log Flux')\n",
    "plt.title('short period lum relations')"
   ]
  },
  {
   "cell_type": "code",
   "execution_count": null,
   "id": "4b0ce039-41f2-4713-a07f-811136025ebc",
   "metadata": {},
   "outputs": [],
   "source": []
  }
 ],
 "metadata": {
  "kernelspec": {
   "display_name": "Python 3 (ipykernel)",
   "language": "python",
   "name": "python3"
  },
  "language_info": {
   "codemirror_mode": {
    "name": "ipython",
    "version": 3
   },
   "file_extension": ".py",
   "mimetype": "text/x-python",
   "name": "python",
   "nbconvert_exporter": "python",
   "pygments_lexer": "ipython3",
   "version": "3.10.1"
  }
 },
 "nbformat": 4,
 "nbformat_minor": 5
}
