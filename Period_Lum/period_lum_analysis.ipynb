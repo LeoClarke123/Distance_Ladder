{
 "cells": [
  {
   "cell_type": "code",
   "execution_count": 63,
   "id": "65ec6ab4-b7bf-4e31-90a5-8ba42cba9fca",
   "metadata": {},
   "outputs": [],
   "source": [
    "\"\"\"\n",
    "Created on Fri Mar 11 10:45:01 2022\n",
    "\n",
    "@author: leotc\n",
    "\"\"\"\n",
    "\n",
    "from numpy import *\n",
    "from math import isclose\n",
    "import os \n",
    "import statistics\n",
    "import matplotlib as mpl\n",
    "import matplotlib.pyplot as plt\n",
    "import numpy as np"
   ]
  },
  {
   "cell_type": "code",
   "execution_count": 64,
   "id": "d663b19d-5822-43cc-94da-031a22f81a53",
   "metadata": {},
   "outputs": [],
   "source": [
    "# sorry, was lazy with directory\n",
    "totalpoints = open(\"C:/Users/leotc/Documents/Uni/PHYS3080/Distance_Ladder/Data/Camera Images/calibrated star data.txt\", \"r\")      \n",
    "pointdata = totalpoints.readlines()[1:]"
   ]
  },
  {
   "cell_type": "code",
   "execution_count": 65,
   "id": "6fe5b456-effb-414e-b01a-b10c0fb653fb",
   "metadata": {},
   "outputs": [],
   "source": [
    "distance = []\n",
    "periods = []\n",
    "luminosity = []\n",
    "\n",
    "for i in pointdata:\n",
    "    \n",
    "    i = i.split()\n",
    "    period = i[-2]\n",
    "    green_flux = i[4]\n",
    "    dist = i[-3]\n",
    "    \n",
    "    if float(period) != 0: \n",
    "        periods.append(float(period))\n",
    "        abs_mag = np.log10(float(green_flux)) + 2*np.log10(float(dist))\n",
    "        luminosity.append(abs_mag)"
   ]
  },
  {
   "cell_type": "code",
   "execution_count": 66,
   "id": "07786f35-13cd-47ed-bec2-f4baceaa2958",
   "metadata": {},
   "outputs": [
    {
     "data": {
      "text/plain": [
       "Text(0.5, 1.0, 'all period lum relations')"
      ]
     },
     "execution_count": 66,
     "metadata": {},
     "output_type": "execute_result"
    },
    {
     "data": {
      "image/png": "[encoded data removed]",
      "text/plain": [
       "<Figure size 432x288 with 1 Axes>"
      ]
     },
     "metadata": {
      "needs_background": "light"
     },
     "output_type": "display_data"
    }
   ],
   "source": [
    "plt.scatter(periods, luminosity, marker='.')\n",
    "plt.xlabel('Period (h)')\n",
    "plt.ylabel('Log Flux')\n",
    "plt.title('all period lum relations')"
   ]
  },
  {
   "cell_type": "code",
   "execution_count": 100,
   "id": "50a38921-1637-482c-abbf-adbe0fcc5b86",
   "metadata": {},
   "outputs": [],
   "source": [
    "distance = []\n",
    "long_periods = []\n",
    "long_luminosity = []\n",
    "\n",
    "for i in pointdata:\n",
    "    \n",
    "    i = i.split()\n",
    "    period = i[-2]\n",
    "    green_flux = i[4]\n",
    "    dist = i[-3]\n",
    "    \n",
    "    if float(period) > 35: \n",
    "        long_periods.append(float(period))\n",
    "        abs_mag = np.log10(float(green_flux)) + 2*np.log10(float(dist))\n",
    "        long_luminosity.append(abs_mag)"
   ]
  },
  {
   "cell_type": "code",
   "execution_count": 101,
   "id": "96fa4f72-2a0f-4dec-8882-07ea938655ad",
   "metadata": {},
   "outputs": [],
   "source": [
    "long_fit = np.polyfit(long_periods, long_luminosity, 1)\n",
    "long_poly = np.poly1d(long_fit)"
   ]
  },
  {
   "cell_type": "markdown",
   "id": "21ac6b78-b7a8-4686-b957-953b93c34fa3",
   "metadata": {},
   "source": [
    "- For stars with long periods (~50hrs), the relation is given as: <br />\n",
    "## $ Log (Flux) = 0.14836345*P - 17.94644976 $ <br />\n",
    "- explicitly:\n",
    "## $ distance_{long}(pc) = \\sqrt{\\frac{10^{0.14836345*P (hours) - 17.94644976}}{green flux (W)}} $"
   ]
  },
  {
   "cell_type": "code",
   "execution_count": 109,
   "id": "66d04bfa-d985-4d6a-9fa8-a0e981a833bd",
   "metadata": {},
   "outputs": [
    {
     "data": {
      "text/plain": [
       "Text(0.5, 1.0, 'long period lum relations')"
      ]
     },
     "execution_count": 109,
     "metadata": {},
     "output_type": "execute_result"
    },
    {
     "data": {
      "image/png": "[encoded data removed]",
      "text/plain": [
       "<Figure size 432x288 with 1 Axes>"
      ]
     },
     "metadata": {
      "needs_background": "light"
     },
     "output_type": "display_data"
    }
   ],
   "source": [
    "fig = plt.figure()\n",
    "ax1 = fig.add_subplot(111)\n",
    "\n",
    "ax1.scatter(long_periods, long_luminosity, marker='.')\n",
    "ax1.plot(long_periods,long_poly(long_periods),\"k\",  linewidth=0.3)\n",
    "ax1.grid()\n",
    "plt.xlabel('Period (h)')\n",
    "plt.ylabel('Log Flux')\n",
    "plt.title('long period lum relations')"
   ]
  },
  {
   "cell_type": "code",
   "execution_count": 83,
   "id": "f4c8c84d-e25f-4f4f-af6b-f3cbc83ca201",
   "metadata": {},
   "outputs": [],
   "source": [
    "distance = []\n",
    "short_periods = []\n",
    "short_luminosity = []\n",
    "\n",
    "for i in pointdata:\n",
    "    \n",
    "    i = i.split()\n",
    "    period = i[-2]\n",
    "    green_flux = i[4]\n",
    "    dist = i[-3]\n",
    "    \n",
    "    if float(period) < 35 and float(period) != 0: \n",
    "        short_periods.append(float(period))\n",
    "        abs_mag = np.log10(float(green_flux)) + 2*np.log10(float(dist))\n",
    "        short_luminosity.append(abs_mag)"
   ]
  },
  {
   "cell_type": "code",
   "execution_count": 84,
   "id": "232a6498-a967-4661-9b66-6fb8a8e7bcde",
   "metadata": {},
   "outputs": [],
   "source": [
    "short_fit = np.polyfit(short_periods, short_luminosity, 1)\n",
    "short_poly = np.poly1d(short_fit)"
   ]
  },
  {
   "cell_type": "markdown",
   "id": "203fe750-ae88-4cd9-bf4f-57d02a6a6bb2",
   "metadata": {},
   "source": [
    "- For stars with short periods (~50hrs), the relation is given as: <br />\n",
    "## $ Log(Flux) = 0.20472512*P - 2.856877 $ <br />\n",
    "- explicitly:\n",
    "## $ distance_{short}(pc) = \\sqrt{\\frac{10^{0.20472512*P (hours) - 2.856877}}{green flux (W)}} $"
   ]
  },
  {
   "cell_type": "code",
   "execution_count": 108,
   "id": "be0b1a3d-0d3d-47aa-b57f-2a86fd60f70a",
   "metadata": {},
   "outputs": [
    {
     "data": {
      "text/plain": [
       "Text(0.5, 1.0, 'short period lum relations')"
      ]
     },
     "execution_count": 108,
     "metadata": {},
     "output_type": "execute_result"
    },
    {
     "data": {
      "image/png": "[encoded data removed]",
      "text/plain": [
       "<Figure size 432x288 with 1 Axes>"
      ]
     },
     "metadata": {
      "needs_background": "light"
     },
     "output_type": "display_data"
    }
   ],
   "source": [
    "fig = plt.figure()\n",
    "ax2 = fig.add_subplot(111)\n",
    "\n",
    "ax2.scatter(short_periods, short_luminosity, marker='.')\n",
    "ax2.plot(short_periods,short_poly(short_periods),\"k\", linewidth=0.3)\n",
    "ax2.grid()\n",
    "plt.xlabel('Period (h)')\n",
    "plt.ylabel('Log Flux')\n",
    "plt.title('short period lum relations')"
   ]
  },
  {
   "cell_type": "code",
   "execution_count": null,
   "id": "4b0ce039-41f2-4713-a07f-811136025ebc",
   "metadata": {},
   "outputs": [],
   "source": []
  }
 ],
 "metadata": {
  "kernelspec": {
   "display_name": "Python 3 (ipykernel)",
   "language": "python",
   "name": "python3"
  },
  "language_info": {
   "codemirror_mode": {
    "name": "ipython",
    "version": 3
   },
   "file_extension": ".py",
   "mimetype": "text/x-python",
   "name": "python",
   "nbconvert_exporter": "python",
   "pygments_lexer": "ipython3",
   "version": "3.10.1"
  }
 },
 "nbformat": 4,
 "nbformat_minor": 5
}
