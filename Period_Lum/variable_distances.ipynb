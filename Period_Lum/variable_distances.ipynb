{
 "cells": [
  {
   "cell_type": "code",
   "execution_count": 5,
   "id": "ce03719e-fd6c-41d8-85b4-ecdc3efe3abd",
   "metadata": {},
   "outputs": [],
   "source": [
    "\"\"\"\n",
    "Created on Fri Mar 18 11:13:01 2022\n",
    "\n",
    "@author: leotc\n",
    "\"\"\"\n",
    "\n",
    "import os "
   ]
  },
  {
   "cell_type": "code",
   "execution_count": 6,
   "id": "17060749-ae30-4bac-9e8d-cc65ace754b9",
   "metadata": {},
   "outputs": [],
   "source": [
    "dir_path = os.path.abspath('')\n",
    "with open(dir_path + \"/../Data/Camera Images/calibrated star data.txt\", \"r\") as totalpoints:    \n",
    "    pointdata = totalpoints.readlines()[1:]"
   ]
  },
  {
   "cell_type": "code",
   "execution_count": 7,
   "id": "d7bae5b1-6ecc-41bb-87be-bbbef36cce4a",
   "metadata": {},
   "outputs": [],
   "source": [
    "distance = []\n",
    "periods = []\n",
    "luminosity = []\n",
    "calculated_distances = []\n",
    "\n",
    "for i in pointdata:\n",
    "    \n",
    "    j = i.split()\n",
    "    \n",
    "    period = j[-2]\n",
    "    green_flux = j[4]\n",
    "    dist = j[-3]\n",
    "    \n",
    "    if dist == 'undef':\n",
    "        # relation for stars with short periods\n",
    "        if float(period) != 0 and float(period) < 35:\n",
    "            approx_dist = ((10**(0.20472512*float(period) - 2.856877))/float(green_flux))**(1/2)\n",
    "            j[-3] = str(approx_dist)\n",
    "        # relation for stars with long periods\n",
    "        elif float(period) != 0 and float(period) >= 35:\n",
    "            approx_dist = ((10**(0.14836345*float(period) - 17.94644976))/float(green_flux))**(1/2)\n",
    "            j[-3] = str(approx_dist)\n",
    "            \n",
    "            \n",
    "    calculated_distances.append(' '.join(j))"
   ]
  },
  {
   "cell_type": "code",
   "execution_count": 8,
   "id": "0681fd44-1c1d-4923-8838-43cb1ae03d52",
   "metadata": {},
   "outputs": [],
   "source": [
    "with open(dir_path + \"/../Data/Camera Images/total with period_lum distances.txt\", \"w\") as period_lum:\n",
    "    period_lum.write('\\n'.join(calculated_distances))"
   ]
  }
 ],
 "metadata": {
  "kernelspec": {
   "display_name": "Python 3 (ipykernel)",
   "language": "python",
   "name": "python3"
  },
  "language_info": {
   "codemirror_mode": {
    "name": "ipython",
    "version": 3
   },
   "file_extension": ".py",
   "mimetype": "text/x-python",
   "name": "python",
   "nbconvert_exporter": "python",
   "pygments_lexer": "ipython3",
   "version": "3.10.2"
  }
 },
 "nbformat": 4,
 "nbformat_minor": 5
}
