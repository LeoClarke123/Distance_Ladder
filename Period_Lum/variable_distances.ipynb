{
 "cells": [
  {
   "cell_type": "code",
   "execution_count": 1,
   "id": "ce03719e-fd6c-41d8-85b4-ecdc3efe3abd",
   "metadata": {},
   "outputs": [],
   "source": [
    "\"\"\"\n",
    "Created on Fri Mar 18 11:13:01 2022\n",
    "\n",
    "@author: leotc\n",
    "\"\"\"\n",
    "\n",
    "from numpy import *\n",
    "from math import isclose\n",
    "import os \n",
    "import statistics\n",
    "import matplotlib as mpl\n",
    "import matplotlib.pyplot as plt\n",
    "import numpy as np"
   ]
  },
  {
   "cell_type": "code",
   "execution_count": 33,
   "id": "17060749-ae30-4bac-9e8d-cc65ace754b9",
   "metadata": {},
   "outputs": [],
   "source": [
    "totalpoints = open(\"C:/Users/leotc/Documents/Uni/PHYS3080/Distance_Ladder/Data/Camera Images/total point-like data.txt\", \"r\")      \n",
    "pointdata = totalpoints.readlines()[1:]"
   ]
  },
  {
   "cell_type": "code",
   "execution_count": 21,
   "id": "d7bae5b1-6ecc-41bb-87be-bbbef36cce4a",
   "metadata": {},
   "outputs": [],
   "source": [
    "distance = []\n",
    "periods = []\n",
    "luminosity = []\n",
    "calculated_distances = [']\n",
    "\n",
    "for i in pointdata:\n",
    "    \n",
    "    j = i.split()\n",
    "    \n",
    "    period = j[-2]\n",
    "    green_flux = j[4]\n",
    "    dist = j[-3]\n",
    "    \n",
    "    if dist == 'undef':\n",
    "        # relation for stars with short periods\n",
    "        if float(period) != 0 and float(period) < 35:\n",
    "            approx_dist = ((10**(0.20472512*float(period) - 2.856877))/float(green_flux))**(1/2)\n",
    "            j[-3] = str(approx_dist)\n",
    "        # relation for stars with long periods\n",
    "        elif float(period) != 0 and float(period) >= 35:\n",
    "            approx_dist = ((10**(0.14836345*float(period) - 17.94644976))/float(green_flux))**(1/2)\n",
    "            j[-3] = str(approx_dist)\n",
    "            \n",
    "            \n",
    "    calculated_distances.append(' '.join(j))"
   ]
  },
  {
   "cell_type": "code",
   "execution_count": 28,
   "id": "0681fd44-1c1d-4923-8838-43cb1ae03d52",
   "metadata": {},
   "outputs": [
    {
     "data": {
      "text/plain": [
       "535871"
      ]
     },
     "execution_count": 28,
     "metadata": {},
     "output_type": "execute_result"
    }
   ],
   "source": [
    "period_lum = open(\"C:/Users/leotc/Documents/Uni/PHYS3080/Distance_Ladder/Data/Camera Images/total with period_lum distances.txt\", \"w\")\n",
    "period_lum.write('\\n'.join(calculated_distances))"
   ]
  },
  {
   "cell_type": "code",
   "execution_count": 35,
   "id": "e105081e-544f-40df-84be-513f1f8cf172",
   "metadata": {},
   "outputs": [],
   "source": [
    "x = totalpoints.readlines()[1:]"
   ]
  },
  {
   "cell_type": "code",
   "execution_count": 36,
   "id": "e6e494a0-e0a1-4809-b494-2ed690e01883",
   "metadata": {},
   "outputs": [
    {
     "data": {
      "text/plain": [
       "[]"
      ]
     },
     "execution_count": 36,
     "metadata": {},
     "output_type": "execute_result"
    }
   ],
   "source": [
    "x"
   ]
  },
  {
   "cell_type": "code",
   "execution_count": null,
   "id": "cfba7d66-67c1-4273-9564-92709398593e",
   "metadata": {},
   "outputs": [],
   "source": []
  }
 ],
 "metadata": {
  "kernelspec": {
   "display_name": "Python 3 (ipykernel)",
   "language": "python",
   "name": "python3"
  },
  "language_info": {
   "codemirror_mode": {
    "name": "ipython",
    "version": 3
   },
   "file_extension": ".py",
   "mimetype": "text/x-python",
   "name": "python",
   "nbconvert_exporter": "python",
   "pygments_lexer": "ipython3",
   "version": "3.10.1"
  }
 },
 "nbformat": 4,
 "nbformat_minor": 5
}
