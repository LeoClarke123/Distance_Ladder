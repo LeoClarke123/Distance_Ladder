{
 "cells": [
  {
   "cell_type": "code",
   "execution_count": null,
   "id": "ce03719e-fd6c-41d8-85b4-ecdc3efe3abd",
   "metadata": {},
   "outputs": [],
   "source": [
    "\"\"\"\n",
    "Created on Fri Mar 18 11:13:01 2022\n",
    "\n",
    "@author: leotc\n",
    "\"\"\"\n",
    "\n",
    "import os \n",
    "import math\n",
    "from astropy.table import Table\n",
    "import pandas as pd"
   ]
  },
  {
   "cell_type": "code",
   "execution_count": null,
   "id": "17060749-ae30-4bac-9e8d-cc65ace754b9",
   "metadata": {},
   "outputs": [],
   "source": [
    "dir_path = os.path.abspath('')\n",
    "with open(dir_path + \"/../Period_Lum/total_with_period_lum_distances.txt\", \"r\") as totalpoints:    \n",
    "    pointdata = totalpoints.readlines()[1:]"
   ]
  },
  {
   "cell_type": "code",
   "execution_count": null,
   "id": "d7bae5b1-6ecc-41bb-87be-bbbef36cce4a",
   "metadata": {},
   "outputs": [],
   "source": [
    "distance = []\n",
    "periods = []\n",
    "luminosity = []\n",
    "calculated_distances = []\n",
    "\n",
    "for i in pointdata:\n",
    "    \n",
    "    j = i.split()\n",
    "    \n",
    "    period = j[-2]\n",
    "    green_flux = j[4]\n",
    "    dist = j[-3]\n",
    "\n",
    "    if float(period) != 0:\n",
    "        # Models come from perio_lum_analysis.ipynb \n",
    "        # relation for stars with short periods\n",
    "        if float(period) < 35:\n",
    "            approx_dist = ((math.exp(-0.64*float(period) - 3.3))/float(green_flux))**(1/2)\n",
    "            j[-3] = str(approx_dist)\n",
    "        # relation for stars with long periods\n",
    "        elif float(period) >= 35:\n",
    "            approx_dist = ((math.exp(0.34*float(period) - 41.3))/float(green_flux))**(1/2)\n",
    "            j[-3] = str(approx_dist)\n",
    "            \n",
    "    calculated_distances.append(' '.join(j))"
   ]
  },
  {
   "cell_type": "code",
   "execution_count": null,
   "id": "1e95757a-9b07-4022-8046-2c972b489c60",
   "metadata": {},
   "outputs": [],
   "source": [
    "new_distances = []\n",
    "for x in calculated_distances:\n",
    "    new_distances.append(x.split(' '))"
   ]
  },
  {
   "cell_type": "code",
   "execution_count": null,
   "id": "fc028ce2-2cd9-4ddf-b4aa-a944e13723fd",
   "metadata": {},
   "outputs": [],
   "source": [
    "period_distances = pd.DataFrame(new_distances, columns=['Name', 'Equatorial', 'Polar', 'BlueFlux', 'GreenFlux', 'RedFlux', 'Parallax', 'RadialVelocity', 'Distance', 'Periodicity', 'PeriodUnc', 'Location'])\n",
    "period_distances.to_csv(dir_path+'/Period_Lum/total_with_period_lum_distances.txt', index=None, sep=' ')    #writes xray data to file"
   ]
  },
  {
   "cell_type": "code",
   "execution_count": null,
   "id": "6de6e2bd-afe0-4ff6-9c45-1223478e2cf7",
   "metadata": {},
   "outputs": [],
   "source": [
    "calculated_distances"
   ]
  },
  {
   "cell_type": "code",
   "execution_count": null,
   "id": "241d138e-54bf-4fe5-b5d5-ba95028b613a",
   "metadata": {},
   "outputs": [],
   "source": []
  }
 ],
 "metadata": {
  "kernelspec": {
   "display_name": "Python 3 (ipykernel)",
   "language": "python",
   "name": "python3"
  },
  "language_info": {
   "codemirror_mode": {
    "name": "ipython",
    "version": 3
   },
   "file_extension": ".py",
   "mimetype": "text/x-python",
   "name": "python",
   "nbconvert_exporter": "python",
   "pygments_lexer": "ipython3",
   "version": "3.10.4"
  }
 },
 "nbformat": 4,
 "nbformat_minor": 5
}
