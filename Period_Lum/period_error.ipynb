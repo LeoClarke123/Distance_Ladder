{
 "cells": [
  {
   "cell_type": "code",
   "execution_count": 1,
   "id": "8f850df5-8b09-4634-bd75-e2ba4664e51d",
   "metadata": {},
   "outputs": [],
   "source": [
    "\"\"\"\n",
    "File for analysing the uncertianty in variable star periods using Monte Carlo estimation\n",
    "\n",
    "NEED TO ADD FUNCTION TO SortingProgram.py within variable stars for loop\n",
    "\n",
    "@author: leotc\n",
    "\"\"\"\n",
    "\n",
    "import numpy as np\n",
    "from astropy.timeseries import LombScargle\n",
    "from astropy.table import Table"
   ]
  },
  {
   "cell_type": "code",
   "execution_count": 236,
   "id": "e737d97a-9b49-4666-b2c7-e240b3ddf567",
   "metadata": {},
   "outputs": [],
   "source": [
    "def period_uncert(star_time, star_flux, runs = 1000,  yerr = 0.015):\n",
    "    \"\"\"\n",
    "    Function for calculating the uncertainty in periods of variable stars using monte carlo method\n",
    "    \n",
    "    Inputs: star_time <astropy.table>: variable star recording times\n",
    "            star_flux <astropy.table>: variable star flux readings\n",
    "            runs <int>: number of monte carlo iterations to perform, default = 1000\n",
    "            yerr <float>: percentage uncertainty in flux readings, default = 1.5%            \n",
    "    \n",
    "    Returns: <float>: uncertainty in variable star period (standard deviation of simulation)\n",
    "    \"\"\"\n",
    "    np.random.seed(1001)\n",
    "    \n",
    "    var_period = []\n",
    "    \n",
    "    for i in range(runs):\n",
    "        \n",
    "        # add random error to each flux term based on uniform distribution of uncertainties\n",
    "        flux_jitter = star_flux + (star_flux*yerr*np.random.uniform(low=-1, high=1, size=len(star_flux)))\n",
    "\n",
    "        LS = LombScargle(star_time, flux_jitter)\n",
    "        freqs = np.linspace(1/100, 0.45, 10000)        #frequency grid\n",
    "        power = LS.power(freqs)     #calculates LS power\n",
    "        var_period.append(1 / freqs[np.argmax(power)])\n",
    "        \n",
    "    # return standard deviation of simulation as uncertainty\n",
    "    return np.std(var_period) "
   ]
  }
 ],
 "metadata": {
  "kernelspec": {
   "display_name": "Python 3 (ipykernel)",
   "language": "python",
   "name": "python3"
  },
  "language_info": {
   "codemirror_mode": {
    "name": "ipython",
    "version": 3
   },
   "file_extension": ".py",
   "mimetype": "text/x-python",
   "name": "python",
   "nbconvert_exporter": "python",
   "pygments_lexer": "ipython3",
   "version": "3.10.1"
  }
 },
 "nbformat": 4,
 "nbformat_minor": 5
}
