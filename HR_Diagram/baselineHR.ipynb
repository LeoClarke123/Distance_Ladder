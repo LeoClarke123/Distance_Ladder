{
 "cells": [
  {
   "cell_type": "markdown",
   "metadata": {},
   "source": [
    "This is code to produce the baseline HR diagram with explanation. Refer to HR.py for an importable file."
   ]
  },
  {
   "cell_type": "code",
   "execution_count": 11,
   "metadata": {},
   "outputs": [
    {
     "data": {
      "text/plain": [
       "'\\n# run only if needed\\n%pip install numpy\\n%pip install pandas\\n%pip install matplotlib\\n'"
      ]
     },
     "execution_count": 11,
     "metadata": {},
     "output_type": "execute_result"
    }
   ],
   "source": [
    "\"\"\"\n",
    "# run only if needed\n",
    "%pip install numpy\n",
    "%pip install pandas\n",
    "%pip install matplotlib\n",
    "\"\"\""
   ]
  },
  {
   "cell_type": "code",
   "execution_count": 20,
   "metadata": {},
   "outputs": [
    {
     "name": "stdout",
     "output_type": "stream",
     "text": [
      "c:\\University\\PHYS3080\\Project_Distance-Ladder\\Distance_Ladder\\HR_Diagram\n"
     ]
    }
   ],
   "source": [
    "import numpy as np\n",
    "import pandas as pd\n",
    "import matplotlib.pyplot as plt\n",
    "import warnings\n",
    "warnings.filterwarnings('ignore')\n",
    "\n",
    "# import data from calibrated stars text file\n",
    "calStars = pd.read_csv('..\\Data\\Camera Images\\calibrated star data.txt',delimiter=' ')\n",
    "import os\n",
    "print(os.getcwd())\n",
    "\n",
    "calStarNames = calStars['Name']"
   ]
  },
  {
   "cell_type": "markdown",
   "metadata": {},
   "source": [
    "To set up the color-color diagram, we first want to set up a magnitude system. In our universe, apparent magnitudes are given by $$m_1 - m_0 = -2.5 \\log \\frac{I_1}{I_0},$$ for reference magnitude and intensity $m_0,I_0$. I will choose to ignore the scaling factor $-2.5$ and the rescaling, so that we have apparent magnitude $$ m = \\log I.$$\n",
    "\n",
    "First, we filter for parallaxes $>$ parallaxLimit (tentatively 0.01)."
   ]
  },
  {
   "cell_type": "code",
   "execution_count": 13,
   "metadata": {},
   "outputs": [],
   "source": [
    "parallaxLimit = 0.01\n",
    "\n",
    "filtStars = calStars.loc[calStars['Parallax'] > parallaxLimit]\n",
    "filtStarNames = np.array(filtStars['Name']) # names for identification\n",
    "filtStarBlue = np.array(filtStars['BlueFlux']) # blue flux\n",
    "filtStarGreen = np.array(filtStars['GreenFlux']) # green flux\n",
    "filtStarRed = np.array(filtStars['RedFlux']) # red flux\n",
    "filtStarDists = np.array(filtStars['Distance']) # distances\n",
    "\n",
    "filtStarColor = np.log(filtStarRed) - np.log(filtStarBlue)\n",
    "\n",
    "# define function to convert from apparent to absolute magnitude.\n",
    "def appToAbs(m,d):\n",
    "    return m + 2*np.log(d) \n",
    "\n",
    "filtStarGreenAMags = appToAbs(np.log(filtStarGreen), filtStarDists)\n"
   ]
  },
  {
   "cell_type": "markdown",
   "metadata": {},
   "source": [
    "The following tells us how many stars have been excluded by the condition that parallax $>$ parallaxLimit, for comparison's sake."
   ]
  },
  {
   "cell_type": "code",
   "execution_count": 14,
   "metadata": {},
   "outputs": [
    {
     "name": "stdout",
     "output_type": "stream",
     "text": [
      "871\n",
      "246\n"
     ]
    }
   ],
   "source": [
    "print(len(calStarNames))\n",
    "print(len(filtStarNames))"
   ]
  },
  {
   "cell_type": "markdown",
   "metadata": {},
   "source": [
    "We now plot and save the HR diagram."
   ]
  },
  {
   "cell_type": "code",
   "execution_count": 16,
   "metadata": {},
   "outputs": [
    {
     "data": {
      "image/png": "[encoded data removed]",
      "text/plain": [
       "<Figure size 432x288 with 1 Axes>"
      ]
     },
     "metadata": {
      "needs_background": "light"
     },
     "output_type": "display_data"
    }
   ],
   "source": [
    "fig, ax = plt.subplots(1,1)\n",
    "ax.scatter(filtStarColor, filtStarGreenAMags)\n",
    "\n",
    "ax.set_title('HR Diagram')\n",
    "ax.set_ylabel('Absolute green magnitudes')\n",
    "ax.set_xlabel('$\\log(F_{Red}) - \\log(F_{Blue})$')\n",
    "ax.grid()\n",
    "\n",
    "fig.show()\n",
    "fig.savefig('HRDiagram.png')"
   ]
  },
  {
   "cell_type": "markdown",
   "metadata": {},
   "source": [
    "The code has since been updated to include periodicity classes. Refer to HR.py for more details."
   ]
  },
  {
   "cell_type": "code",
   "execution_count": null,
   "metadata": {},
   "outputs": [],
   "source": []
  }
 ],
 "metadata": {
  "interpreter": {
   "hash": "dd7df93e66b8163fb365d3de903e79e379212d6cc1bc6a8c9fba9bd612f2f804"
  },
  "kernelspec": {
   "display_name": "Python 3.10.2 64-bit",
   "language": "python",
   "name": "python3"
  },
  "language_info": {
   "codemirror_mode": {
    "name": "ipython",
    "version": 3
   },
   "file_extension": ".py",
   "mimetype": "text/x-python",
   "name": "python",
   "nbconvert_exporter": "python",
   "pygments_lexer": "ipython3",
   "version": "3.10.2"
  },
  "orig_nbformat": 4
 },
 "nbformat": 4,
 "nbformat_minor": 2
}
